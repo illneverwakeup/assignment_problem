{
 "cells": [
  {
   "cell_type": "markdown",
   "metadata": {
    "id": "CVnVuz6-SYTG"
   },
   "source": [
    "### В данном блокноте рассматривается применение генетического алгоритма в четкой постановке задачи о назначениях"
   ]
  },
  {
   "cell_type": "markdown",
   "metadata": {
    "id": "o1ITDCTjSOd2"
   },
   "source": [
    "Подключаем необходимые библиотеки"
   ]
  },
  {
   "cell_type": "code",
   "execution_count": null,
   "metadata": {
    "id": "uufCv759ST2k"
   },
   "outputs": [],
   "source": [
    "import numpy as np\n",
    "import random\n",
    "from tabulate import tabulate"
   ]
  },
  {
   "cell_type": "markdown",
   "metadata": {
    "id": "SMczPwN7SXcx"
   },
   "source": [
    "Вычисляем фитнес-функцию, основанную на целевой функции из постановки задачи. \\\n",
    "\\begin{equation}\n",
    "f_k = \\sum_{j \\in J} c_{s_{kj}j}\n",
    "\\end{equation}\n",
    "Суммируем каждый ген выбранной хромосомы (возможного решения)."
   ]
  },
  {
   "cell_type": "code",
   "execution_count": null,
   "metadata": {
    "id": "oY3jzEmITbpC"
   },
   "outputs": [],
   "source": [
    "def fitness(chromosome, c_matrix):\n",
    "    return sum(c_matrix[i][j] for j, i in enumerate(chromosome))"
   ]
  },
  {
   "cell_type": "markdown",
   "metadata": {
    "id": "LOOdnyWdW7uF"
   },
   "source": [
    "Вычисляем функцию непригодности. \\\n",
    "\\begin{equation}\n",
    "u_k = \\sum_{i \\in I} \\max\\left[ 0, \\left( \\sum_{j \\in J, s_{kj} = i} r_{ij} \\right) - b_i \\right]\n",
    "\\end{equation}\n",
    "Если $ u_k = 0 $, то считаем, что рассматриваемая хромосома (решение) удовлетворяет введенным ограничениям.\n",
    "\n",
    "В дальнейшем хромосома с наибольшим значениям функции непригодности заменяется созданным дочерним решением."
   ]
  },
  {
   "cell_type": "code",
   "execution_count": null,
   "metadata": {
    "id": "cP5TFjo0W-sB"
   },
   "outputs": [],
   "source": [
    "def unfitness(chromosome, r_matrix, b_list):\n",
    "    unfitness_value = 0\n",
    "    agent_resources = np.zeros(len(b_list))\n",
    "\n",
    "    for j, i in enumerate(chromosome):\n",
    "        agent_resources[i] += r_matrix[i][j]\n",
    "\n",
    "    for i in range(len(b_list)):\n",
    "        if agent_resources[i] > b_list[i]:\n",
    "            unfitness_value += agent_resources[i] - b_list[i]\n",
    "\n",
    "    return unfitness_value"
   ]
  },
  {
   "cell_type": "markdown",
   "metadata": {
    "id": "CozIibEMYTKH"
   },
   "source": [
    "Создаем популяцию. Количество особей N задает пользователем."
   ]
  },
  {
   "cell_type": "code",
   "execution_count": null,
   "metadata": {
    "id": "xgJ0MvW3YTzi"
   },
   "outputs": [],
   "source": [
    "def generate_population(N, num_agents, num_tasks):\n",
    "    return [np.random.randint(0, num_agents, num_tasks) for _ in range(N)]"
   ]
  },
  {
   "cell_type": "markdown",
   "metadata": {
    "id": "rrRkmj4hYe3C"
   },
   "source": [
    "Для отбора двух родительских хромосом используем метод бинарного турнира."
   ]
  },
  {
   "cell_type": "code",
   "execution_count": null,
   "metadata": {
    "id": "GE4rGAIQYfs5"
   },
   "outputs": [],
   "source": [
    "import random\n",
    "\n",
    "def tournament_selection(population, c_matrix, r_matrix, b_list):\n",
    "    def select_one(population, c_matrix, r_matrix, b_list):\n",
    "        selected = random.sample(population, 2)\n",
    "        fit_1 = fitness(selected[0], c_matrix)\n",
    "        fit_2 = fitness(selected[1], c_matrix)\n",
    "\n",
    "        if unfitness(selected[0], r_matrix, b_list) == 0 and unfitness(selected[1], r_matrix, b_list) == 0:\n",
    "            return selected[0] if fit_1 > fit_2 else selected[1]\n",
    "\n",
    "        if unfitness(selected[0], r_matrix, b_list) == 0:\n",
    "            return selected[0]\n",
    "\n",
    "        if unfitness(selected[1], r_matrix, b_list) == 0:\n",
    "            return selected[1]\n",
    "\n",
    "        return selected[0] if fit_1 > fit_2 else selected[1]\n",
    "\n",
    "    parent1 = select_one(population, c_matrix, r_matrix, b_list)\n",
    "\n",
    "    while True:\n",
    "        parent2 = select_one(population, c_matrix, r_matrix, b_list)\n",
    "        if not np.array_equal(parent2, parent1):\n",
    "            break\n",
    "\n",
    "    return parent1, parent2"
   ]
  },
  {
   "cell_type": "markdown",
   "metadata": {
    "id": "v7BTJ662YqbL"
   },
   "source": [
    "Создаем дочернюю хромосому, используя гены отобранных родителей."
   ]
  },
  {
   "cell_type": "code",
   "execution_count": null,
   "metadata": {
    "id": "rjF9E8zAYq2y"
   },
   "outputs": [],
   "source": [
    "def crossover(parent1, parent2):\n",
    "    point = random.randint(1, len(parent1) - 1)\n",
    "    if random.random() > 0.5:\n",
    "        child = np.concatenate([parent1[:point], parent2[point:]])\n",
    "    else:\n",
    "        child = np.concatenate([parent2[:point], parent1[point:]])\n",
    "    return child"
   ]
  },
  {
   "cell_type": "markdown",
   "metadata": {
    "id": "_NI9WKCBZGgB"
   },
   "source": [
    "Применяем мутацию генов дочерней хромосомы."
   ]
  },
  {
   "cell_type": "code",
   "execution_count": null,
   "metadata": {
    "id": "8npk90HBZPcJ"
   },
   "outputs": [],
   "source": [
    "def mutate(chromosome, num_agents):\n",
    "    i = random.randint(0, len(chromosome) - 1)\n",
    "    chromosome[i] = random.randint(0, num_agents - 1)\n",
    "    return chromosome"
   ]
  },
  {
   "cell_type": "markdown",
   "metadata": {
    "id": "R_ogp1yhZVWI"
   },
   "source": [
    "Запускаем генетический алгоритм.\n",
    "Число создания хромосом без улучшения целевой функции M задается пользователем."
   ]
  },
  {
   "cell_type": "code",
   "execution_count": null,
   "metadata": {
    "id": "-fI3btSMZVmx"
   },
   "outputs": [],
   "source": [
    "def genetic_algorithm(num_agents, num_tasks, c_matrix, r_matrix, b_list, N, M):\n",
    "    population = generate_population(N, num_agents, num_tasks)\n",
    "\n",
    "    best_solution = None\n",
    "    best_fitness = float('-inf')\n",
    "    best_unfitness = float('inf')\n",
    "\n",
    "    no_improvement_counter = 0\n",
    "\n",
    "    while no_improvement_counter < M:\n",
    "        population_fitness = [(chromosome, fitness(chromosome, c_matrix), unfitness(chromosome, r_matrix, b_list)) for chromosome in population]\n",
    "\n",
    "        population_fitness.sort(key=lambda x: (x[2], -x[1]))\n",
    "\n",
    "        if population_fitness[0][2] == 0 and population_fitness[0][1] > best_fitness:\n",
    "            best_solution = population_fitness[0][0]\n",
    "            best_fitness = population_fitness[0][1]\n",
    "            best_unfitness = 0\n",
    "            no_improvement_counter = 0\n",
    "        else:\n",
    "            no_improvement_counter += 1\n",
    "\n",
    "        parent1, parent2 = tournament_selection(population, c_matrix, r_matrix, b_list)\n",
    "\n",
    "        child = crossover(parent1, parent2)\n",
    "\n",
    "        if random.random() < 0.1:\n",
    "            child = mutate(child, num_agents)\n",
    "\n",
    "        child_fitness = fitness(child, c_matrix)\n",
    "        child_unfitness = unfitness(child, r_matrix, b_list)\n",
    "\n",
    "        if child_unfitness == 0:\n",
    "            if all(not np.array_equal(child, chrom) for chrom, _, _ in population_fitness):\n",
    "                population_fitness[-1] = (child, child_fitness, child_unfitness)\n",
    "        elif child_unfitness < population_fitness[-1][2]:\n",
    "            population_fitness[-1] = (child, child_fitness, child_unfitness)\n",
    "\n",
    "        population = [chrom for chrom, _, _ in population_fitness]\n",
    "\n",
    "    return best_solution, best_fitness"
   ]
  },
  {
   "cell_type": "markdown",
   "metadata": {
    "id": "HDGMR5rL5REq"
   },
   "source": [
    "Считывание вводного файла."
   ]
  },
  {
   "cell_type": "code",
   "execution_count": null,
   "metadata": {
    "id": "GXqyOKPG5UR8"
   },
   "outputs": [],
   "source": [
    "import pandas as pd\n",
    "\n",
    "def read_data_from_excel(file_path):\n",
    "    # Чтение Excel-файла\n",
    "    df = pd.read_excel(file_path, header=None)\n",
    "\n",
    "    # Количество агентов (сотрудников)\n",
    "    num_agents = int(df.iloc[0, 0])\n",
    "\n",
    "    # Количество задач\n",
    "    num_tasks = int(df.iloc[2, 0])\n",
    "\n",
    "    # Матрица эффективности C (возможны нецелые числа)\n",
    "    c_matrix = df.iloc[4:4+num_agents, 0:num_tasks].astype(float).values.tolist()\n",
    "\n",
    "    # Матрица ресурсов R (возможны нецелые числа)\n",
    "    r_matrix = df.iloc[4+num_agents+1:4+num_agents+1+num_agents, 0:num_tasks].astype(float).values.tolist()\n",
    "\n",
    "    # Вектор доступных ресурсов B (возможны нецелые числа)\n",
    "    b_list = df.iloc[4+num_agents+1+num_agents+1:4+num_agents+1+num_agents+num_agents+1, 0].astype(float).tolist()\n",
    "    \n",
    "    # Количество особей в популяции N (целое число)\n",
    "    N = int(df.iloc[4+num_agents+1+num_agents+num_agents+2, 0])\n",
    "\n",
    "    # Количество итераций без улучшений M (целое число)\n",
    "    M = int(df.iloc[4+num_agents+1+num_agents+num_agents+4, 0])\n",
    "\n",
    "    return num_agents, num_tasks, c_matrix, r_matrix, b_list, N, M"
   ]
  },
  {
   "cell_type": "markdown",
   "metadata": {
    "id": "vsthH6Bq5WvV"
   },
   "source": [
    "Вывод результатов. \\\n",
    "Для лучшей визуализации результатов выводим таблицу с соотношениями: Номер задачи - Номер назначенного сотрудника"
   ]
  },
  {
   "cell_type": "code",
   "execution_count": null,
   "metadata": {
    "id": "8PeZh3rq5ZrU"
   },
   "outputs": [],
   "source": [
    "def print_solution_table(solution, num_agents, num_tasks):\n",
    "    assignment_matrix = np.zeros((num_agents, num_tasks), dtype=int)\n",
    "\n",
    "    for j, i in enumerate(solution):\n",
    "        assignment_matrix[i][j] = 1\n",
    "\n",
    "    headers = [f'Задача {j + 1}' for j in range(num_tasks)]\n",
    "\n",
    "    print(\"\\nРаспределение задач между сотрудниками:\")\n",
    "    print(tabulate(assignment_matrix, headers=headers, tablefmt=\"grid\"))"
   ]
  },
  {
   "cell_type": "markdown",
   "metadata": {
    "id": "QAXY1l7QaAcO"
   },
   "source": [
    "Запуск алгоритма.\n",
    "\n",
    "Данные вводятся в файл xlsx в следующем порядке:\n",
    "1. Количество агентов (сотрудников)\n",
    "2. Количество задач\n",
    "3. Матрица эффективности C размером [число агентов] x [число задач]\n",
    "4. Матрица ресурсов R, которые нужны для каждый задачи, размером [число агентов] x [число задач]\n",
    "5. Вектор доступных ресурсов размером [число агентов]\n",
    "6. Количество особей в популяции N\n",
    "7. Количество итераций без улучшений M\n",
    "\n",
    "Каждый пункт должен заполняться через строку после предыдущего и начинаться с первой ячейки в строке. Первый пункт заполяется в 1 строке и 1 столбце.\n",
    "\n",
    "\n",
    "Результат выводится в эту же таблицу в формате:\n",
    "1. Таблица подобранного решения [номер задачи] - [номер назначенного сотрудника]\n",
    "2. Результат максимальной эффективности"
   ]
  },
  {
   "cell_type": "code",
   "execution_count": null,
   "metadata": {
    "colab": {
     "base_uri": "https://localhost:8080/",
     "height": 373
    },
    "id": "ocHnlJH0aBnA",
    "outputId": "6b4f2244-845c-47c7-a639-2fad56977932"
   },
   "outputs": [],
   "source": [
    "if __name__ == \"__main__\":\n",
    "\n",
    "    file_path = r\"--путь до файла--",
    "\n",
    "    num_agents, num_tasks, c_matrix, r_matrix, b_list, N, M = read_data_from_excel(file_path)\n",
    "\n",
    "    best_solution, best_fitness = genetic_algorithm(num_agents, num_tasks, c_matrix, r_matrix, b_list, N, M)\n",
    "\n",
    "    print_solution_table(best_solution, num_agents, num_tasks)\n",
    "    print(f\"\\nМаксимальная эффективность: {best_fitness}\")"
   ]
  }
 ],
 "metadata": {
  "colab": {
   "provenance": []
  },
  "kernelspec": {
   "display_name": "Python 3 (ipykernel)",
   "language": "python",
   "name": "python3"
  },
  "language_info": {
   "codemirror_mode": {
    "name": "ipython",
    "version": 3
   },
   "file_extension": ".py",
   "mimetype": "text/x-python",
   "name": "python",
   "nbconvert_exporter": "python",
   "pygments_lexer": "ipython3",
   "version": "3.13.0"
  }
 },
 "nbformat": 4,
 "nbformat_minor": 4
}
